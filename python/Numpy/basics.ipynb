{
 "cells": [
  {
   "cell_type": "markdown",
   "metadata": {},
   "source": [
    "<h1 align='center' >Numpy and pandas understanding</h1>\n"
   ]
  },
  {
   "cell_type": "code",
   "execution_count": 1,
   "metadata": {},
   "outputs": [
    {
     "name": "stdout",
     "output_type": "stream",
     "text": [
      "hello ashim\n"
     ]
    }
   ],
   "source": [
    "print(\"hello ashim\")"
   ]
  },
  {
   "cell_type": "code",
   "execution_count": 2,
   "metadata": {},
   "outputs": [
    {
     "name": "stdout",
     "output_type": "stream",
     "text": [
      "55\n"
     ]
    }
   ],
   "source": [
    "list_of_numbers = [1, 2, 3, 4, 5, 6, 7, 8, 9, 10]\n",
    "sum=0\n",
    "for n in list_of_numbers:\n",
    "    sum=sum+n\n",
    "print(sum)"
   ]
  },
  {
   "cell_type": "markdown",
   "metadata": {},
   "source": [
    "<h3 align='center'>Installing jupiter noteboook</h3>"
   ]
  },
  {
   "cell_type": "code",
   "execution_count": 5,
   "metadata": {},
   "outputs": [
    {
     "name": "stderr",
     "output_type": "stream",
     "text": [
      "python: can't open file 'a:\\\\Trainings\\\\hackedemia\\\\python\\\\Numpy\\\\install': [Errno 2] No such file or directory\n"
     ]
    }
   ],
   "source": [
    "# To provide cmd command start with !\n",
    "!python install numpy"
   ]
  },
  {
   "cell_type": "markdown",
   "metadata": {},
   "source": [
    "<h3 align='centre' >Basics</h3>"
   ]
  },
  {
   "cell_type": "code",
   "execution_count": 6,
   "metadata": {},
   "outputs": [
    {
     "name": "stdout",
     "output_type": "stream",
     "text": [
      "[1 2 3 4 5] <class 'numpy.ndarray'>\n",
      "15\n",
      "3.0\n",
      "1.4142135623730951\n",
      "5\n",
      "[ 1  3  6 10 15]\n"
     ]
    }
   ],
   "source": [
    "import numpy as np\n",
    "\n",
    "array_of_numbers=np.array([1,2,3,4,5])\n",
    "print(array_of_numbers,type(array_of_numbers))\n",
    "print(array_of_numbers.sum())\n",
    "print(array_of_numbers.mean())\n",
    "print(array_of_numbers.std())\n",
    "print(array_of_numbers.max())\n",
    "print(array_of_numbers.cumsum())"
   ]
  },
  {
   "cell_type": "code",
   "execution_count": 7,
   "metadata": {},
   "outputs": [
    {
     "name": "stdout",
     "output_type": "stream",
     "text": [
      "[[-3. -4.]\n",
      " [ 4.  5.]]\n"
     ]
    }
   ],
   "source": [
    "matrix=np.array(([1,2],[3,4]))\n",
    "matrix1=np.array(([5,6],[7,8]))\n",
    "print(np.linalg.det(matrix))\n",
    "trans=matrix1.T\n",
    "print(trans)\n",
    "print(np.dot(matrix,matrix1))\n",
    "print(np.linalg.inv(matrix))\n",
    "print(np.linalg.solve(matrix,matrix1))\n",
    "list=[]\n",
    "row=int(input(\"enter number of rows\\n\"))\n",
    "column=int(input(\"enter number of rows\\n\"))\n",
    "for i in range(row):\n",
    "    list.append([])\n",
    "    for j in range(column):\n",
    "        list[i].append(int(input()))\n",
    "print(np.array(list))\n"
   ]
  },
  {
   "cell_type": "code",
   "execution_count": 9,
   "metadata": {},
   "outputs": [
    {
     "name": "stdout",
     "output_type": "stream",
     "text": [
      "7.38905609893065\n",
      "1.4142135623730951\n"
     ]
    }
   ],
   "source": [
    "# print(np.linalg.solve(matrix,matrix1))\n",
    "print(np.exp(2))\n",
    "print(np.sqrt(2))\n"
   ]
  }
 ],
 "metadata": {
  "kernelspec": {
   "display_name": "Python 3",
   "language": "python",
   "name": "python3"
  },
  "language_info": {
   "codemirror_mode": {
    "name": "ipython",
    "version": 3
   },
   "file_extension": ".py",
   "mimetype": "text/x-python",
   "name": "python",
   "nbconvert_exporter": "python",
   "pygments_lexer": "ipython3",
   "version": "3.12.5"
  }
 },
 "nbformat": 4,
 "nbformat_minor": 2
}
